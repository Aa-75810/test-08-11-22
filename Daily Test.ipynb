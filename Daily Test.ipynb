{
 "cells": [
  {
   "cell_type": "code",
   "execution_count": 3,
   "id": "9e42e1ad",
   "metadata": {},
   "outputs": [
    {
     "name": "stdout",
     "output_type": "stream",
     "text": [
      "SCITYLANGIB\n"
     ]
    }
   ],
   "source": [
    "# Q-1\n",
    "a = 'BIGNALYTICS'\n",
    "print(a[::-1])"
   ]
  },
  {
   "cell_type": "code",
   "execution_count": 4,
   "id": "8d522194",
   "metadata": {},
   "outputs": [
    {
     "name": "stdout",
     "output_type": "stream",
     "text": [
      "[2, 4, 6, 8, 10] "
     ]
    }
   ],
   "source": [
    "# Q-2\n",
    "list1=[1,2,3,4,5,6,7,8,9,10]\n",
    "x = [num for num in list1  if (num%2)==0] \n",
    "print(x,end=' ')\n"
   ]
  },
  {
   "cell_type": "code",
   "execution_count": 5,
   "id": "4c901256",
   "metadata": {
    "scrolled": true
   },
   "outputs": [
    {
     "name": "stdout",
     "output_type": "stream",
     "text": [
      "PythoN IS AA HigH LeveL LanguagE\n"
     ]
    }
   ],
   "source": [
    "# Q-3\n",
    "a = ' python is a high level language'\n",
    "b = a.split()\n",
    "ls = []\n",
    "for i in b:\n",
    "    s = i[0].upper()\n",
    "    t = i[1:-1]\n",
    "    u = i[-1:].upper()\n",
    "    d = s+t+u\n",
    "    ls.append(d)\n",
    "    l = ' '.join(ls)\n",
    "print(l)"
   ]
  },
  {
   "cell_type": "code",
   "execution_count": 7,
   "id": "36182ed2",
   "metadata": {},
   "outputs": [
    {
     "name": "stdout",
     "output_type": "stream",
     "text": [
      "ENTER YOUR SENTENCE: python is a high level language\n",
      "10\n"
     ]
    }
   ],
   "source": [
    "# Q-4\n",
    "a = str(input('ENTER YOUR SENTENCE: '))\n",
    "b= a.count('a')\n",
    "c= a.count('e')\n",
    "d= a.count('i')\n",
    "e= a.count('o')\n",
    "f= a.count('u')\n",
    "if 'i' or 'a' or 'e' or 'o' or 'u' in a:\n",
    "    print(b+c+d+e+f)\n",
    "else:\n",
    "    print(\"You don't have any vowels\")"
   ]
  },
  {
   "cell_type": "code",
   "execution_count": 8,
   "id": "c29a078b",
   "metadata": {},
   "outputs": [
    {
     "name": "stdout",
     "output_type": "stream",
     "text": [
      "ENTER YOUR SENTENCE: python is a high level language\n",
      "STRING IS not ACCEPTED\n"
     ]
    }
   ],
   "source": [
    "# Q-5\n",
    "a = str(input('ENTER YOUR SENTENCE: '))\n",
    "b= '#'\n",
    "c= '@'\n",
    "d= '**'\n",
    "\n",
    "if b or c or d  in a:\n",
    "    print('STRING IS not ACCEPTED')\n",
    "else:\n",
    "    print('STRING IS ACCEPTED')"
   ]
  },
  {
   "cell_type": "code",
   "execution_count": 9,
   "id": "979aeb13",
   "metadata": {},
   "outputs": [
    {
     "name": "stdout",
     "output_type": "stream",
     "text": [
      "XYC\n",
      "ABZ\n"
     ]
    }
   ],
   "source": [
    "# Q-6\n",
    "a = 'ABC'\n",
    "b= 'XYZ'\n",
    "c = a.replace('AB','XY')\n",
    "d = b.replace('XY','AB')\n",
    "print(c)\n",
    "print(d)"
   ]
  },
  {
   "cell_type": "code",
   "execution_count": 10,
   "id": "7d9d7fdf",
   "metadata": {},
   "outputs": [
    {
     "name": "stdout",
     "output_type": "stream",
     "text": [
      "ENTER YOUR FIRST NAME: ADITYA\n",
      "ENTER YOUR FIRST NAME: JAYANT\n",
      "ENTER YOUR FIRST NAME: DESAI\n",
      "A.J.DESAI\n"
     ]
    }
   ],
   "source": [
    "# Q-8\n",
    "a= str(input('ENTER YOUR FIRST NAME: '))\n",
    "b= str(input('ENTER YOUR FIRST NAME: '))\n",
    "c= str(input('ENTER YOUR FIRST NAME: '))\n",
    "print(a[0]+'.'+b[0]+'.'+c)"
   ]
  },
  {
   "cell_type": "code",
   "execution_count": 11,
   "id": "eff753c6",
   "metadata": {},
   "outputs": [
    {
     "name": "stdout",
     "output_type": "stream",
     "text": [
      "3\n"
     ]
    }
   ],
   "source": [
    "# Q-9\n",
    "a = 'abcabcdefabc'\n",
    "print(a.count('abc'))"
   ]
  },
  {
   "cell_type": "code",
   "execution_count": 13,
   "id": "e5eb58a3",
   "metadata": {},
   "outputs": [
    {
     "name": "stdout",
     "output_type": "stream",
     "text": [
      "ENTER YOUR SENTENCE: THE QUICK BROWN FOX JUMPS OVER THE LAZY DOG\n",
      "['THE', 'QUICK', 'BROWN', 'FOX', 'JUMPS', 'OVER', 'THE', 'LAZY', 'DOG'] <class 'list'>\n"
     ]
    }
   ],
   "source": [
    "# Q-10\n",
    "a =str(input('ENTER YOUR SENTENCE: '))\n",
    "b = a.split()\n",
    "print(b, type(b))"
   ]
  }
 ],
 "metadata": {
  "kernelspec": {
   "display_name": "Python 3 (ipykernel)",
   "language": "python",
   "name": "python3"
  },
  "language_info": {
   "codemirror_mode": {
    "name": "ipython",
    "version": 3
   },
   "file_extension": ".py",
   "mimetype": "text/x-python",
   "name": "python",
   "nbconvert_exporter": "python",
   "pygments_lexer": "ipython3",
   "version": "3.9.12"
  }
 },
 "nbformat": 4,
 "nbformat_minor": 5
}
